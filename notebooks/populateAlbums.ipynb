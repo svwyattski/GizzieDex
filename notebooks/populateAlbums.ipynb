{
 "cells": [
  {
   "cell_type": "markdown",
   "metadata": {},
   "source": [
    "# Imports"
   ]
  },
  {
   "cell_type": "code",
   "execution_count": null,
   "metadata": {},
   "outputs": [],
   "source": [
    "import requests\n",
    "import time\n",
    "import pandas as pd\n",
    "import spotipy\n",
    "from spotipy.oauth2 import SpotifyClientCredentials"
   ]
  },
  {
   "cell_type": "markdown",
   "metadata": {},
   "source": [
    "# Variables"
   ]
  },
  {
   "cell_type": "code",
   "execution_count": null,
   "metadata": {},
   "outputs": [],
   "source": [
    "clientID = '846e46c84e5a4b8d97026e419da77447'\n",
    "clientSecret = '47f03d8d55e6417ab8dcd727e9f68a33'\n",
    "spot = spotipy.Spotify(client_credentials_manager=SpotifyClientCredentials(clientID,clientSecret))"
   ]
  },
  {
   "cell_type": "code",
   "execution_count": null,
   "metadata": {},
   "outputs": [],
   "source": [
    "name = \"King Gizzard\"\n",
    "# gizID = \"6XYvaoDGE0VmRt83Jss9Sn\"\n",
    "# gizURI = f\"spotify:artist:{gizID}\"\n",
    "# gizURL = f\"https://api.spotify.com/v1/artist/{gizID}\""
   ]
  },
  {
   "cell_type": "markdown",
   "metadata": {},
   "source": [
    "# Functions"
   ]
  },
  {
   "cell_type": "code",
   "execution_count": null,
   "metadata": {},
   "outputs": [],
   "source": [
    "def getArtist(spotify,name):\n",
    "    results = spotify.search(q='artist:' + name, type='artist')\n",
    "    items = results['artists']['items']\n",
    "    id = items[0]['id']\n",
    "    uri = items[0]['uri']\n",
    "    url = f\"https://api.spotify.com/v1/artist/{id}\"\n",
    "    return id,uri,url"
   ]
  },
  {
   "cell_type": "code",
   "execution_count": null,
   "metadata": {},
   "outputs": [],
   "source": [
    "def getAlbums(spotify,URL):\n",
    "    results = spotify.artist_albums(URL, country = \"US\", album_type='album')\n",
    "    albums = results['items']\n",
    "    while results['next']:\n",
    "        results = spotify.next(results)\n",
    "        albums.extend(results['items'])\n",
    "    ids =[]\n",
    "    uris = []\n",
    "    names = []\n",
    "    dates = []\n",
    "    images = []\n",
    "    tracks = []\n",
    "\n",
    "    for album in albums:\n",
    "        ids.append(album['id'])\n",
    "        uris.append(album['uri'])\n",
    "        names.append(album['name'])\n",
    "        dates.append(album['release_date'])\n",
    "        images.append(album['images'])\n",
    "        tracks.append(album['total_tracks'])\n",
    "\n",
    "    df = pd.DataFrame()\n",
    "    df['AID'] = ids\n",
    "    df['URI'] = uris\n",
    "    df['Name'] = names\n",
    "    df['Release Date'] = dates\n",
    "    df['Track Count'] = tracks\n",
    "    df['Album Art'] = images\n",
    "    return df"
   ]
  },
  {
   "cell_type": "code",
   "execution_count": null,
   "metadata": {},
   "outputs": [],
   "source": [
    "def getTracks(spotify,album):\n",
    "    results = spotify.album_tracks(album['URI'])\n",
    "    tracks = results['items']\n",
    "    while results['next']:\n",
    "        results = spotify.next(results)\n",
    "        tracks.extend(results['items'])\n",
    "    ids = []\n",
    "    uris = []\n",
    "    trackNo = []\n",
    "    names = []\n",
    "    aids = []\n",
    "    for track in tracks:\n",
    "        ids.append(track['id'])\n",
    "        uris.append(track['uri'])\n",
    "        trackNo.append(track['track_number'])\n",
    "        names.append(track['name'])\n",
    "        aids.append(album['AID'])\n",
    "    df = pd.DataFrame()\n",
    "    df['SID'] = ids\n",
    "    df['URI'] = uris\n",
    "    df['Track Number'] = trackNo\n",
    "    df['Name'] = names\n",
    "    df['AID'] = aids\n",
    "    return df"
   ]
  },
  {
   "cell_type": "markdown",
   "metadata": {},
   "source": [
    "# Search For GizzID on Spotify"
   ]
  },
  {
   "cell_type": "code",
   "execution_count": null,
   "metadata": {},
   "outputs": [],
   "source": [
    "gizID, gizURI, gizURL = getArtist(spot,name)"
   ]
  },
  {
   "cell_type": "markdown",
   "metadata": {},
   "source": [
    "# Get all Gizz Albums"
   ]
  },
  {
   "cell_type": "code",
   "execution_count": null,
   "metadata": {},
   "outputs": [],
   "source": [
    "albums = getAlbums(spot,gizURL)\n",
    "albums = albums[albums['AID']!='2e5TG0TyL4Q1HvW4w2O8FP']\n",
    "albums = albums[albums['AID']!='6yDDniLbk2UxkUl7cjpkWE']\n",
    "albums.head(30)"
   ]
  },
  {
   "cell_type": "code",
   "execution_count": null,
   "metadata": {},
   "outputs": [],
   "source": [
    "allTracks = pd.DataFrame()\n",
    "for index,row in albums.iterrows():\n",
    "    allTracks = pd.concat([allTracks,(getTracks(spot,row))],axis=0)\n",
    "allTracks.head(100)"
   ]
  },
  {
   "cell_type": "markdown",
   "metadata": {},
   "source": [
    "# Scratch"
   ]
  }
 ],
 "metadata": {
  "kernelspec": {
   "display_name": "Python 3.9.1 64-bit",
   "language": "python",
   "name": "python3"
  },
  "language_info": {
   "codemirror_mode": {
    "name": "ipython",
    "version": 3
   },
   "file_extension": ".py",
   "mimetype": "text/x-python",
   "name": "python",
   "nbconvert_exporter": "python",
   "pygments_lexer": "ipython3",
   "version": "3.9.1"
  },
  "orig_nbformat": 4,
  "vscode": {
   "interpreter": {
    "hash": "b246dd1c528a4501f714e72a4b8beb4f0fd334fd1893d1e51fa7cea6e530ec5d"
   }
  }
 },
 "nbformat": 4,
 "nbformat_minor": 2
}
