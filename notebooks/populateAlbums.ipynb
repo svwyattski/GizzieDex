{
 "cells": [
  {
   "cell_type": "markdown",
   "metadata": {},
   "source": [
    "# Imports"
   ]
  },
  {
   "cell_type": "code",
   "execution_count": null,
   "metadata": {},
   "outputs": [],
   "source": [
    "import requests\n",
    "import time\n",
    "import pandas as pd"
   ]
  },
  {
   "cell_type": "markdown",
   "metadata": {},
   "source": [
    "# Functions"
   ]
  },
  {
   "cell_type": "code",
   "execution_count": null,
   "metadata": {},
   "outputs": [],
   "source": []
  },
  {
   "cell_type": "markdown",
   "metadata": {},
   "source": [
    "# Variables"
   ]
  },
  {
   "cell_type": "code",
   "execution_count": null,
   "metadata": {},
   "outputs": [],
   "source": [
    "clientID = '846e46c84e5a4b8d97026e419da77447'"
   ]
  },
  {
   "cell_type": "markdown",
   "metadata": {},
   "source": [
    "# Manual Entry"
   ]
  },
  {
   "cell_type": "code",
   "execution_count": null,
   "metadata": {},
   "outputs": [],
   "source": [
    "albums = pd.DataFrame(columns=['AID','Title','Release Date'])\n",
    "albums.head()"
   ]
  },
  {
   "cell_type": "code",
   "execution_count": null,
   "metadata": {},
   "outputs": [],
   "source": [
    "\n",
    "a_series = pd.Series([0,\"Willoughby's Beach\",\"7 September 2012\"], index = albums.columns)\n",
    "albums = albums.append(a_series, ignore_index=True)\n",
    "albums.head()"
   ]
  },
  {
   "cell_type": "code",
   "execution_count": null,
   "metadata": {},
   "outputs": [],
   "source": [
    "songs = pd.DataFrame(columns=['SID','Title','AID'])\n",
    "songs.head()"
   ]
  },
  {
   "cell_type": "code",
   "execution_count": null,
   "metadata": {},
   "outputs": [],
   "source": [
    "albums['Title'] = [\"Willoughby's Beach\",\"12 Bar Bruise\",\"Eyes Like the Sky\",\"Float Along – Fill Your Lungs\",\"Oddments\",\"I'm in Your Mind Fuzz\",\"Quarters!\",\"Paper Mâché Dream Balloon\",\"Nonagon Infinity\",\"Flying Microtonal Banana\",\"Murder of the Universe\",\"Sketches of Brunswick East\",\"Polygondwanaland\",\"Gumboot Soup\",\"Fishing for Fishies\",\"Infest the Rats' Nest\",\"K.G.\",\"L.W.\",\"Butterfly 3000\",\"Made in Timeland\",\"Omnium Gatherum\"]\n",
    "albums.head(21)"
   ]
  },
  {
   "cell_type": "markdown",
   "metadata": {},
   "source": [
    "# Spotify"
   ]
  },
  {
   "cell_type": "code",
   "execution_count": null,
   "metadata": {},
   "outputs": [],
   "source": [
    "sid = \n",
    "theURL = f\"https://api.spotify.com/v1/artists/{sid}/albums\"\n",
    "query = \"artist:Gizzard\""
   ]
  }
 ],
 "metadata": {
  "kernelspec": {
   "display_name": "Python 3.9.1 64-bit",
   "language": "python",
   "name": "python3"
  },
  "language_info": {
   "codemirror_mode": {
    "name": "ipython",
    "version": 3
   },
   "file_extension": ".py",
   "mimetype": "text/x-python",
   "name": "python",
   "nbconvert_exporter": "python",
   "pygments_lexer": "ipython3",
   "version": "3.9.1"
  },
  "orig_nbformat": 4,
  "vscode": {
   "interpreter": {
    "hash": "b246dd1c528a4501f714e72a4b8beb4f0fd334fd1893d1e51fa7cea6e530ec5d"
   }
  }
 },
 "nbformat": 4,
 "nbformat_minor": 2
}
