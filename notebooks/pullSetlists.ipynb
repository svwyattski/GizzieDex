{
 "cells": [
  {
   "cell_type": "markdown",
   "metadata": {},
   "source": [
    "# Imports"
   ]
  },
  {
   "cell_type": "code",
   "execution_count": null,
   "metadata": {},
   "outputs": [],
   "source": [
    "import pandas as pd\n",
    "import requests\n",
    "import time"
   ]
  },
  {
   "cell_type": "markdown",
   "metadata": {},
   "source": [
    "# Functions"
   ]
  },
  {
   "cell_type": "code",
   "execution_count": null,
   "metadata": {},
   "outputs": [],
   "source": [
    "def getSetlists(key,mbid,pages):\n",
    "    dataPD = pd.DataFrame()\n",
    "    results = []\n",
    "    headers = {\n",
    "        'x-api-key': key,\n",
    "        'accept': 'application/json'\n",
    "    }\n",
    "    i=1\n",
    "    while i < pages:\n",
    "        print(f'Getting Setlist Page: {i}')\n",
    "        url = f\"https://api.setlist.fm/rest/1.0/artist/{mbid}/setlists?p={i}\"\n",
    "\n",
    "        response = requests.get(url=url, headers=headers)\n",
    "        if response is not None:\n",
    "            print(\"HTTP Status Code : \" + str(response.status_code))\n",
    "            results.append(response.json())\n",
    "        time.sleep(5)\n",
    "        i+=1\n",
    "        \n",
    "\n",
    "    return results"
   ]
  },
  {
   "cell_type": "markdown",
   "metadata": {},
   "source": [
    "# Variables"
   ]
  },
  {
   "cell_type": "code",
   "execution_count": null,
   "metadata": {},
   "outputs": [],
   "source": [
    "# 2/sec, 1440/day MAX\n",
    "apiKey = '2G5hMFRudjRP1ApGmT4avM7Qqgz8CmqPLjNc'"
   ]
  },
  {
   "cell_type": "code",
   "execution_count": null,
   "metadata": {},
   "outputs": [],
   "source": [
    "gizz = 'f58384a4-2ad2-4f24-89c5-c7b74ae1cce7'"
   ]
  },
  {
   "cell_type": "markdown",
   "metadata": {},
   "source": [
    "# Main"
   ]
  },
  {
   "cell_type": "code",
   "execution_count": null,
   "metadata": {},
   "outputs": [],
   "source": [
    "setlists = getSetlists(apiKey,gizz,3)"
   ]
  },
  {
   "cell_type": "markdown",
   "metadata": {},
   "source": [
    "# Scratch"
   ]
  },
  {
   "cell_type": "code",
   "execution_count": null,
   "metadata": {},
   "outputs": [],
   "source": [
    "eg = setlists[0]['setlist']"
   ]
  },
  {
   "cell_type": "code",
   "execution_count": null,
   "metadata": {},
   "outputs": [],
   "source": [
    "setlists[0]['setlist'][0]['sets']['set'][0]['song'][0]['name']"
   ]
  },
  {
   "cell_type": "code",
   "execution_count": null,
   "metadata": {},
   "outputs": [],
   "source": [
    "eg[0]"
   ]
  },
  {
   "cell_type": "code",
   "execution_count": null,
   "metadata": {},
   "outputs": [],
   "source": [
    "setlists[0]"
   ]
  }
 ],
 "metadata": {
  "kernelspec": {
   "display_name": "Python 3.9.1 64-bit",
   "language": "python",
   "name": "python3"
  },
  "language_info": {
   "codemirror_mode": {
    "name": "ipython",
    "version": 3
   },
   "file_extension": ".py",
   "mimetype": "text/x-python",
   "name": "python",
   "nbconvert_exporter": "python",
   "pygments_lexer": "ipython3",
   "version": "3.9.1"
  },
  "orig_nbformat": 4,
  "vscode": {
   "interpreter": {
    "hash": "b246dd1c528a4501f714e72a4b8beb4f0fd334fd1893d1e51fa7cea6e530ec5d"
   }
  }
 },
 "nbformat": 4,
 "nbformat_minor": 2
}
